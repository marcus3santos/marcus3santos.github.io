{
 "cells": [
  {
   "cell_type": "markdown",
   "metadata": {},
   "source": [
    "# CPS305 - Data Structures\n",
    "# Lab01 - Editing and running Lisp programs in Jupyter Notebook"
   ]
  },
  {
   "cell_type": "markdown",
   "metadata": {},
   "source": [
    "## Learning objectives of this lab\n",
    "Students who successfully complete this lab should be able to:\n",
    "\n",
    "1. describe and use the programming support features of Emacs\n",
    "2. describe and write Lisp expressions that combine the following programming elements to create abstractions\n",
    "   1. primitive expressions \n",
    "   2. means of combination \n",
    "   3. means of (procedural) abstraction\n",
    "   4. Variable binding\n",
    "   5. Branching"
   ]
  },
  {
   "cell_type": "markdown",
   "metadata": {},
   "source": [
    "## Before you start working on the lab exercises\n",
    "\n",
    "Read this document carefully to prepare for the lab properly and become aware of the requirements to turn in your lab solution (i.e., the compressed file containing your solution to the lab exercises,  as per the instructions presented here).\n",
    "\n",
    "1. Install the common lisp jupyter notebook environment on your personal computer as per the instructions provided at the website https://marcus3santos.github.io/common-lisp-jupyter.html \n",
    "2. Read pages 1-5, 11-28 of the textbook, and sections *First Steps*, *Functions*, and *Variables* of the lisp-lang.org tutorial https://lisp-lang.org/learn/\n"
   ]
  },
  {
   "cell_type": "markdown",
   "metadata": {},
   "source": [
    "## Exercises \n",
    "\n",
    "### Preamble\n",
    "\n",
    "In the following text, **$** denotes the shell prompt.\n",
    "\n",
    "Type the following command in the shell terminal (note: text started with a `#` are comments)\n",
    "```shell\n",
    "$ cd             # change to the home directory\n",
    "$ mkdir CPS305   # create directory CPS305\n",
    "$ cd CPS305      # change to directory CPS305\n",
    "$ mkdir Lab01    # create directory Lab01\n",
    "$ cd Lab01       # change to directory Lab01\n",
    "```\n",
    "\n",
    "If for some reason you mistyped the name of a folder, use the shell command `mv` to correct it. For example, suppose you typed *lab1* instead of *Lab01*. You can correct the folder name via the following command\n",
    "    \n",
    "```shell\n",
    "$ mv lab1 Lab01\n",
    "```"
   ]
  },
  {
   "cell_type": "markdown",
   "metadata": {},
   "source": [
    "Type on the terminal the following command to launch comon-lisp-jupyter:\n",
    "\n",
    "```shell\n",
    "$ jupyter notebook\n",
    "```"
   ]
  },
  {
   "cell_type": "markdown",
   "metadata": {},
   "source": [
    "### Exercise 1: Editing,  running, and interacting with lisp programs, and reading online lisp documentation in jupyter notebook\n",
    "\n",
    "1. In the browser window opened by the command above, create a new jupyter notebook document by clicking on *New/Common Lisp*\n",
    "2. Copy-paste the program below in the common-lisp-jupyter cell that was created when you clicked on *New/Common Lisp*. The new cell looks like this:\n",
    "    "
   ]
  },
  {
   "cell_type": "code",
   "execution_count": null,
   "metadata": {},
   "outputs": [],
   "source": []
  },
  {
   "cell_type": "markdown",
   "metadata": {},
   "source": [
    "    \n",
    "```lisp\n",
    "\n",
    "(ql:quickload :rutils)\n",
    "\n",
    ";; Unit test macros\n",
    "\n",
    "(defvar *test-name* nil)\n",
    "\n",
    "(defun report-result (result form)\n",
    "    (format t \"~:[FAIL~;pass~] ...~a: ~a~%\" result *test-name* form)\n",
    "    result)\n",
    "\n",
    "(defmacro with-gensyms ((&rest names) &body body)\n",
    "    `(let ,(loop for n in names collect `(,n (gensym)))\n",
    "          ,@body))\n",
    "\n",
    "(defmacro combine-results (&body forms)\n",
    "    (with-gensyms (result)\n",
    "        `(let ((,result t))\n",
    "            ,@(loop for f in forms collect `(unless ,f (setf ,result nil)))\n",
    "            ,result)))\n",
    "\n",
    "(defmacro check (&body forms)\n",
    "    `(combine-results\n",
    "      ,@(loop for f in forms collect `(report-result ,f ',f))))\n",
    "\n",
    "(defmacro deftest (name parameters &body body)\n",
    "    `(defun ,name ,parameters\n",
    "         (let ((*test-name* (append *test-name* (list ',name))))\n",
    "              ,@body)))\n",
    "```"
   ]
  },
  {
   "cell_type": "markdown",
   "metadata": {},
   "source": [
    "3. Click on **Run** to compile/load this program.\n",
    "4. Copy-paste the program below in a new common-lisp-jupyter cell. The program below contains the lisp functions we will study in this lab and their test cases.\n",
    "    **Notice**:  jupyter has highlighted the name of all lisp forms, viz., DEFVAR, DEFUN, IF, and PROGN. Let's suppose we would like to know how the IF special form works. You can access Common Lisp documentation by clicking on **Help/Common Lisp HyperSpec**"
   ]
  },
  {
   "cell_type": "markdown",
   "metadata": {},
   "source": [
    "```lisp\n",
    ";; Functions\n",
    "\n",
    "(defvar *balance* 100)\n",
    "\n",
    "(defun withdraw (amount)\n",
    "    (if (>= *balance* amount)\n",
    "        (progn\n",
    "            (:= *balance* (- *balance* amount))\n",
    "            *balance*)\n",
    "        (format t \"Insufficient funds~%\")))\n",
    ";; Test cases\n",
    "\n",
    "(deftest test-withdraw ()\n",
    "    (:= *balance* 100)  ; sets the bank account balance\n",
    "    (check\n",
    "     (equal (withdraw 10) 90)\n",
    "     (equal (withdraw 20) 70)))  \n",
    "\n",
    "(deftest test-deposit ()\n",
    "    ; You will complete this test case in Exercise 2\n",
    "    )\n",
    "\n",
    "(defun main ()\n",
    "    (test-withdraw)\n",
    "    (test-deposit))\n",
    "```"
   ]
  },
  {
   "cell_type": "markdown",
   "metadata": {},
   "source": [
    "4. Compile/load the lisp program by clicking on **Run**.\n",
    "\n",
    "    **NOTE**: to recompile changes that you have made to a lisp program that you typed in a cell, all you have to do is to run it again. Lisp will remember those functions that you have defined in the cell. \n",
    "\n",
    "5. Next, let's call a function defined in our lisp program cell. Let's call function WITHDRAW and see what happens when we withdraw 20 dollars from the account. As usual, type the following expression in a **NEW** cell, click on **Run** and notice the output jupyter her produced.  (**IMPORTANT**: do not add the expression below to your lisp program cell. Type it in a new cell.)\n",
    "      ```lisp\n",
    "      (withdraw 20)\n",
    "      ```\n",
    "6. Next, withdraw other amounts and notice what happens when there are insufficient funds in the account.\n",
    "    **NOTICE**: At each withdrawal, the value of the global variable `*BALANCE*` is modified. If you want to know your current balance, type the following on a cell (not on your lisp program cell) and run it:\n",
    "    ```lisp\n",
    "    *balance*\n",
    "    ```\n",
    "    And to reload an amount of, say $200, type and run the following expression on a cell:\n",
    "    ```lisp\n",
    "    (setf *balance* 200)\n",
    "    ```\n",
    "7. Next, let's run the test cases provided in the last part of the program. We run them by calling the function MAIN defined in the lisp program cell. Type and run the expression below in a cell:\n",
    "    ```lisp\n",
    "    (main)\n",
    "    ```\n",
    "    You should get the following output\n",
    "    ```lisp\n",
    "    pass ...(TEST-WITHDRAW): (EQUAL (WITHDRAW 10) 90)\n",
    "    pass ...(TEST-WITHDRAW): (EQUAL (WITHDRAW 20) 70)\n",
    "    ```\n",
    "    The output above produced by the CHECK macro shows that function WITHDRAW passed the two test cases defined in the TEST-WITHDRAW unit test. The unit test first set the balance to 100, then in the first test case checked if the function call `(WITDRAW 10)` returned a value equal to 90, and the second test case checked if the subsequent call `(WITHDRAW 20)` returned a value equal to 70. "
   ]
  },
  {
   "cell_type": "markdown",
   "metadata": {},
   "source": [
    "### Exercise 2: programming in lisp\n",
    "   \n",
    "1. Extend your bank account lisp program by creating a DEPOSIT function (in your lisp program cell) that takes as input an amount and adds it to the account balance. There is a limit of 10000 dollars per deposit. \n",
    "2. Add the test case below to your lisp program cell. Your new function DEPOSIT should pass the three assertions  defined in this test case:\n",
    "```lisp\n",
    "(deftest test-deposit ()\n",
    "      (:= *balance* 100)\n",
    "      (check\n",
    "         (not (deposit 10001))\n",
    "         (equal (deposit 10) 110)\n",
    "         (equal (deposit 20) 130)))\n",
    "```\n",
    "3. Verify if your function DEPOSIT passes the test case by typing and running the following expression in a cell\n",
    "```lisp\n",
    "(main)\n",
    "```\n",
    "**NOTE**: As usual, once you have changed your lisp program, to recompile it, click anywhere in the cell to select it, then click on **Run**."
   ]
  },
  {
   "cell_type": "markdown",
   "metadata": {},
   "source": [
    "### Exercise 3: programming in lisp\n",
    "1. Change the WITHDRAW function so that there is a limit of 10000 dollars per withdrawal. \n",
    "2. Add the test case below to your program. Your new function WITHDRAW should past all the assertions defined in this test case.\n",
    "```lisp\n",
    "(deftest test-withdraw ()\n",
    "      (:= *balance* 100)\n",
    "      (check\n",
    "         (equal (withdraw 10) 90)\n",
    "         (equal (withdraw 20) 70)\n",
    "         (not (withdraw 10001))\n",
    "         (not (withdraw 80))\n",
    "         (equal (withdraw 60) 10)))\n",
    "```"
   ]
  },
  {
   "cell_type": "markdown",
   "metadata": {},
   "source": [
    "## Preparing to submit your lab\n",
    "\n",
    "1. Except for the cell containing your lisp functions and test cases, delete all other cells that you have created in your jupyter notebook, including the cell containing the Unit Test Macros.\n",
    "2. Download your lisp program to your computer, as follows:\n",
    "    1. Click on **File/Download as/Common Lisp (.lisp)**, name your lisp program **bank-account**. You don't need to provide a file extension. Jupyter will add the **.lisp** file extension to your file name.\n",
    "    2. Ensure you download the file to your **LAB01/** folder.\n",
    "   \n",
    "## What to submit\n",
    "\n",
    "At the Lab01 web page in D2L, click on Lab Solution Submission, then attach and submit the following file(s):\n",
    "- **bank-account.lisp**\n"
   ]
  }
 ],
 "metadata": {
  "kernelspec": {
   "display_name": "Common Lisp",
   "language": "common-lisp",
   "name": "common-lisp"
  },
  "language_info": {
   "codemirror_mode": "text/x-common-lisp",
   "file_extension": ".lisp",
   "mimetype": "text/x-common-lisp",
   "name": "common-lisp",
   "pygments_lexer": "common-lisp",
   "version": "2.1.4"
  }
 },
 "nbformat": 4,
 "nbformat_minor": 4
}
